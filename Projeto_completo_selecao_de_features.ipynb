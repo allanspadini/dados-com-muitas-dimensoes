{
  "cells": [
    {
      "cell_type": "markdown",
      "metadata": {
        "id": "AwHhfrKLXgbh"
      },
      "source": [
        "## Vídeo 1.2 - Entendendo o problema"
      ]
    },
    {
      "cell_type": "code",
      "execution_count": null,
      "metadata": {
        "id": "LpJ0Jx6-N4BU"
      },
      "outputs": [],
      "source": [
        "import pandas as pd\n",
        "\n",
        "df = pd.read_csv('https://raw.githubusercontent.com/allanspadini/dados-com-muitas-dimensoes/main/dados/hotel.csv')"
      ]
    },
    {
      "cell_type": "code",
      "execution_count": null,
      "metadata": {
        "colab": {
          "base_uri": "https://localhost:8080/",
          "height": 461
        },
        "id": "dAQBRihxd3Cn",
        "outputId": "84d99cf5-e1af-403e-b856-ba7ea1925955"
      },
      "outputs": [],
      "source": [
        "df"
      ]
    },
    {
      "cell_type": "code",
      "execution_count": null,
      "metadata": {
        "colab": {
          "base_uri": "https://localhost:8080/"
        },
        "id": "Lzn97o4PXxbx",
        "outputId": "e6408202-7517-4c29-ffc0-bb6382adab51"
      },
      "outputs": [],
      "source": [
        "df['booking_status'].unique()"
      ]
    },
    {
      "cell_type": "code",
      "execution_count": null,
      "metadata": {
        "colab": {
          "base_uri": "https://localhost:8080/"
        },
        "id": "V3TDB0-0fdt5",
        "outputId": "cf68a481-a397-4e77-ceb7-45c1a97abee3"
      },
      "outputs": [],
      "source": [
        "df.isnull().sum().sum()"
      ]
    },
    {
      "cell_type": "code",
      "execution_count": null,
      "metadata": {
        "colab": {
          "base_uri": "https://localhost:8080/"
        },
        "id": "utPgnNwqRsJC",
        "outputId": "0c1f08bc-70cf-4a3f-a57e-d2d2edfc452a"
      },
      "outputs": [],
      "source": [
        "df.info()"
      ]
    },
    {
      "cell_type": "markdown",
      "metadata": {
        "id": "c6nGBT0ViQGA"
      },
      "source": [
        "## Vídeo 1.3 - Treinando um modelo de ML"
      ]
    },
    {
      "cell_type": "code",
      "execution_count": null,
      "metadata": {
        "id": "Q-kk7JCaiUc-"
      },
      "outputs": [],
      "source": [
        "from sklearn.model_selection import train_test_split\n",
        "from sklearn.ensemble import RandomForestClassifier"
      ]
    },
    {
      "cell_type": "code",
      "execution_count": null,
      "metadata": {
        "id": "w2kzooytnQH3"
      },
      "outputs": [],
      "source": [
        "modelo = RandomForestClassifier(random_state=2)\n",
        "\n",
        "X = df.drop(['booking_status'],axis=1)\n",
        "y = df['booking_status']\n",
        "\n",
        "X_treino,X_teste, y_treino, y_teste = train_test_split(X,y, random_state=50, test_size=0.3,stratify=y)\n"
      ]
    },
    {
      "cell_type": "code",
      "execution_count": null,
      "metadata": {
        "colab": {
          "base_uri": "https://localhost:8080/"
        },
        "id": "mFfuOyHcuEDv",
        "outputId": "72fac605-7c1b-4090-fbc7-fe0838fc8880"
      },
      "outputs": [],
      "source": [
        "y_teste.shape"
      ]
    },
    {
      "cell_type": "code",
      "execution_count": null,
      "metadata": {
        "colab": {
          "base_uri": "https://localhost:8080/"
        },
        "id": "qWVHAZvsQNi1",
        "outputId": "f668f618-6719-491b-fd5c-b858cd3beeb4"
      },
      "outputs": [],
      "source": [
        "modelo.fit(X_treino,y_treino)\n",
        "modelo.score(X_teste,y_teste)"
      ]
    },
    {
      "cell_type": "code",
      "execution_count": null,
      "metadata": {
        "colab": {
          "base_uri": "https://localhost:8080/"
        },
        "id": "l1oTbdudzIb-",
        "outputId": "039cf035-c16a-4f0b-d5e7-c21cffbd6760"
      },
      "outputs": [],
      "source": [
        "(df['booking_status'].value_counts() / len(df))*100"
      ]
    },
    {
      "cell_type": "markdown",
      "metadata": {
        "id": "XRAOV6g_dDVG"
      },
      "source": [
        "# Aula 2 - Análise de dados"
      ]
    },
    {
      "cell_type": "markdown",
      "metadata": {
        "id": "JNIEZBYwdHJL"
      },
      "source": [
        "## Vídeo 2.1 - Entendendo as features"
      ]
    },
    {
      "cell_type": "code",
      "execution_count": null,
      "metadata": {
        "id": "xrlPStfmvyBB"
      },
      "outputs": [],
      "source": [
        "import seaborn as sns"
      ]
    },
    {
      "cell_type": "code",
      "execution_count": null,
      "metadata": {
        "colab": {
          "base_uri": "https://localhost:8080/",
          "height": 467
        },
        "id": "WeBEgbQcdbYo",
        "outputId": "0c055356-34e9-4efe-bb93-f0270aba3a85"
      },
      "outputs": [],
      "source": [
        "sns.boxplot(X_treino, x=y_treino, y='arrival_month')"
      ]
    },
    {
      "cell_type": "code",
      "execution_count": null,
      "metadata": {
        "colab": {
          "base_uri": "https://localhost:8080/",
          "height": 467
        },
        "id": "Rx5TB3Ew6vZD",
        "outputId": "9240dbf0-5843-4d6b-eb38-ae5a823ff7b8"
      },
      "outputs": [],
      "source": [
        "sns.violinplot(X_treino, x=y_treino, y='arrival_month')"
      ]
    },
    {
      "cell_type": "code",
      "execution_count": null,
      "metadata": {
        "colab": {
          "base_uri": "https://localhost:8080/",
          "height": 467
        },
        "id": "xoO4mzUSeqS-",
        "outputId": "ac42929f-c05a-48d9-99b6-90f9cdb9f46e"
      },
      "outputs": [],
      "source": [
        "sns.boxplot(X_treino, x=y_treino, y='lead_time')"
      ]
    },
    {
      "cell_type": "markdown",
      "metadata": {
        "id": "P321Nuvcm4PZ"
      },
      "source": [
        "## Vídeo 2.2 - Correlação entre features"
      ]
    },
    {
      "cell_type": "code",
      "execution_count": null,
      "metadata": {
        "id": "7VnO9ncch_lG"
      },
      "outputs": [],
      "source": [
        "correlacao = pd.concat([X_treino,y_treino],axis=1).corr()"
      ]
    },
    {
      "cell_type": "code",
      "execution_count": null,
      "metadata": {
        "id": "EuW3xEc5xoBZ"
      },
      "outputs": [],
      "source": [
        "import matplotlib.pyplot as plt"
      ]
    },
    {
      "cell_type": "code",
      "execution_count": null,
      "metadata": {
        "colab": {
          "base_uri": "https://localhost:8080/",
          "height": 666
        },
        "id": "xz43Dx5uyn8F",
        "outputId": "06388bcc-5eda-4591-f7b8-1d5388d16169"
      },
      "outputs": [],
      "source": [
        "plt.figure(figsize=(20,8))\n",
        "sns.heatmap(correlacao, annot=True, cmap='coolwarm',fmt='.2f')"
      ]
    },
    {
      "cell_type": "markdown",
      "metadata": {
        "id": "XU5iuW9qB-7-"
      },
      "source": [
        "## Vídeo 2.3 - Feature Importance"
      ]
    },
    {
      "cell_type": "code",
      "execution_count": null,
      "metadata": {
        "colab": {
          "base_uri": "https://localhost:8080/"
        },
        "id": "MNBTQgseANts",
        "outputId": "042765f5-631d-459e-d457-7656f4b1cde9"
      },
      "outputs": [],
      "source": [
        "modelo = RandomForestClassifier(random_state=2)\n",
        "modelo.fit(X_treino,y_treino)\n",
        "print(f'Score: {modelo.score(X_teste,y_teste)}')\n",
        "importancia = pd.DataFrame({'colunas':X_treino.columns,'importancia':modelo.feature_importances_})"
      ]
    },
    {
      "cell_type": "code",
      "execution_count": null,
      "metadata": {
        "id": "o2zmlxaxQHSf"
      },
      "outputs": [],
      "source": [
        "importancia10 = importancia.sort_values(by=\"importancia\", ascending=False).head(10)"
      ]
    },
    {
      "cell_type": "code",
      "execution_count": null,
      "metadata": {
        "colab": {
          "base_uri": "https://localhost:8080/",
          "height": 733
        },
        "id": "grsn616GQNKp",
        "outputId": "3f5d4b74-120d-4dd4-cb0f-f56110586648"
      },
      "outputs": [],
      "source": [
        "plt.figure(figsize=(10,6))\n",
        "ax = sns.barplot(x='colunas',y='importancia',data=importancia10)\n",
        "ax.set_xticklabels(ax.get_xticklabels(), rotation=75);"
      ]
    },
    {
      "cell_type": "markdown",
      "metadata": {
        "id": "ODjmSyC_nx9X"
      },
      "source": [
        "# Aula 3 - Automatizando a seleção"
      ]
    },
    {
      "cell_type": "markdown",
      "metadata": {
        "id": "gA66CQY6n2gu"
      },
      "source": [
        "## Vídeo 3.1 - SelectFromModel"
      ]
    },
    {
      "cell_type": "code",
      "execution_count": null,
      "metadata": {
        "id": "mLtYzd4WQuJ4"
      },
      "outputs": [],
      "source": [
        "from sklearn.feature_selection import SelectFromModel"
      ]
    },
    {
      "cell_type": "code",
      "execution_count": null,
      "metadata": {
        "id": "wPjbgH7hpXcA"
      },
      "outputs": [],
      "source": [
        "modelo_fselecionadas = SelectFromModel(modelo, max_features=10, prefit=True)"
      ]
    },
    {
      "cell_type": "code",
      "execution_count": null,
      "metadata": {
        "colab": {
          "base_uri": "https://localhost:8080/"
        },
        "id": "et-hjfg4vDVU",
        "outputId": "f8c00f13-0956-4c93-ccf9-0fbc292aa759"
      },
      "outputs": [],
      "source": [
        "X_treino_selecionado = modelo_fselecionadas.transform(X_treino);\n",
        "X_teste_selecionado = modelo_fselecionadas.transform(X_teste);"
      ]
    },
    {
      "cell_type": "code",
      "execution_count": null,
      "metadata": {
        "colab": {
          "base_uri": "https://localhost:8080/"
        },
        "id": "LZ5uwZkHv8ED",
        "outputId": "8c5f3e64-c8b8-4633-98d2-2be1a8177f62"
      },
      "outputs": [],
      "source": [
        "modelo = RandomForestClassifier(random_state=2)\n",
        "modelo.fit(X_treino_selecionado,y_treino)\n",
        "print(f'Score: {modelo.score(X_teste_selecionado,y_teste)}')"
      ]
    },
    {
      "cell_type": "markdown",
      "metadata": {
        "id": "ur7Gfvmmyjz9"
      },
      "source": [
        "## Vídeo 3.2 - Validação cruzada"
      ]
    },
    {
      "cell_type": "code",
      "execution_count": null,
      "metadata": {
        "id": "cwPBghHyzEOa"
      },
      "outputs": [],
      "source": [
        "from sklearn.model_selection import GridSearchCV"
      ]
    },
    {
      "cell_type": "code",
      "execution_count": null,
      "metadata": {
        "id": "4zqaR-eVWZwW"
      },
      "outputs": [],
      "source": [
        "modelo = RandomForestClassifier(random_state=2)"
      ]
    },
    {
      "cell_type": "code",
      "execution_count": null,
      "metadata": {
        "id": "oXJ5_4qVYHKR"
      },
      "outputs": [],
      "source": [
        "parametros_busca = {\n",
        "    'n_estimators': [100, 200, 300],\n",
        "    'max_depth': [None, 10, 20],\n",
        "    'min_samples_split': [2, 5],\n",
        "    'min_samples_leaf': [1, 2]\n",
        "}"
      ]
    },
    {
      "cell_type": "code",
      "execution_count": null,
      "metadata": {
        "id": "OFGRs9l90Xa3"
      },
      "outputs": [],
      "source": [
        "grid_search = GridSearchCV(estimator=modelo, param_grid=parametros_busca,\n",
        "                           scoring='accuracy', cv=5, n_jobs=-1)"
      ]
    },
    {
      "cell_type": "code",
      "execution_count": null,
      "metadata": {
        "colab": {
          "base_uri": "https://localhost:8080/",
          "height": 118
        },
        "id": "qT5O7Sgv0bGV",
        "outputId": "2a0c697a-537a-402f-bfd4-d1827fd6fa34"
      },
      "outputs": [],
      "source": [
        "grid_search.fit(X_treino, y_treino)"
      ]
    },
    {
      "cell_type": "markdown",
      "metadata": {
        "id": "pqy81vvFbsq6"
      },
      "source": [
        "Ou utilizar direto o melhor estimador na SelectFromModel."
      ]
    },
    {
      "cell_type": "code",
      "execution_count": null,
      "metadata": {
        "id": "WNl5pqgxcKdM"
      },
      "outputs": [],
      "source": [
        "modelo_fselecionadas = SelectFromModel(grid_search.best_estimator_, max_features=10,prefit=True)\n"
      ]
    },
    {
      "cell_type": "code",
      "execution_count": null,
      "metadata": {
        "colab": {
          "base_uri": "https://localhost:8080/"
        },
        "id": "WcRhomRzWvpM",
        "outputId": "a0d9e825-f6e1-44b1-eb4d-3512432cf83e"
      },
      "outputs": [],
      "source": [
        "X_treino_selecionado = modelo_fselecionadas.transform(X_treino)\n",
        "X_teste_selecionado = modelo_fselecionadas.transform(X_teste)"
      ]
    },
    {
      "cell_type": "code",
      "execution_count": null,
      "metadata": {
        "colab": {
          "base_uri": "https://localhost:8080/",
          "height": 75
        },
        "id": "Q1i7xh2GWxl1",
        "outputId": "be338e96-5634-45b2-ed20-36f68f523273"
      },
      "outputs": [],
      "source": [
        "modelo = grid_search.best_estimator_\n",
        "modelo.fit(X_treino_selecionado, y_treino)"
      ]
    },
    {
      "cell_type": "code",
      "execution_count": null,
      "metadata": {
        "colab": {
          "base_uri": "https://localhost:8080/"
        },
        "id": "BsGM-S6LW0-n",
        "outputId": "36881695-7506-4d31-b3b2-378a96bfbe15"
      },
      "outputs": [],
      "source": [
        "score = modelo.score(X_teste_selecionado, y_teste)\n",
        "print(f'Score: {score}')"
      ]
    },
    {
      "cell_type": "markdown",
      "metadata": {
        "id": "QzIdRb-3miyI"
      },
      "source": [
        "## Vídeo 3.3 - Matriz de confusão"
      ]
    },
    {
      "cell_type": "code",
      "execution_count": null,
      "metadata": {
        "id": "dRzxgfV5cpE7"
      },
      "outputs": [],
      "source": [
        "from sklearn.metrics import confusion_matrix, roc_curve, auc"
      ]
    },
    {
      "cell_type": "code",
      "execution_count": null,
      "metadata": {
        "id": "AsDYvHmdvc3M"
      },
      "outputs": [],
      "source": [
        "y_pred = modelo.predict(X_teste_selecionado)"
      ]
    },
    {
      "cell_type": "code",
      "execution_count": null,
      "metadata": {
        "colab": {
          "base_uri": "https://localhost:8080/",
          "height": 472
        },
        "id": "vhIpSEgLvS-R",
        "outputId": "30050be0-9c9a-4b0f-fbe1-ebf9bb86fed2"
      },
      "outputs": [],
      "source": [
        "matriz_confusao = confusion_matrix(y_teste,y_pred)\n",
        "\n",
        "sns.heatmap(matriz_confusao, annot=True, cmap='coolwarm',fmt='d')\n",
        "plt.xlabel('Classe Prevista');\n",
        "plt.ylabel('Classe Real');\n",
        "plt.title('Matriz de Confusão');\n"
      ]
    },
    {
      "cell_type": "markdown",
      "metadata": {
        "id": "dESNsHwMnBPG"
      },
      "source": [
        "Outro método de análise que podemos usar é a curva roc."
      ]
    },
    {
      "cell_type": "code",
      "execution_count": null,
      "metadata": {
        "id": "wUqcsX27dyZ_"
      },
      "outputs": [],
      "source": [
        "fpr, tpr, thresholds = roc_curve(y_teste,y_pred)"
      ]
    },
    {
      "cell_type": "code",
      "execution_count": null,
      "metadata": {
        "id": "KDFaDnc7nERa"
      },
      "outputs": [],
      "source": [
        "roc_auc = auc(fpr, tpr)"
      ]
    },
    {
      "cell_type": "code",
      "execution_count": null,
      "metadata": {
        "colab": {
          "base_uri": "https://localhost:8080/",
          "height": 472
        },
        "id": "6VT1lgMlnGZM",
        "outputId": "ba29e162-ac77-4650-ee51-8cd26c479ee8"
      },
      "outputs": [],
      "source": [
        "plt.figure()\n",
        "plt.plot(fpr, tpr, color='darkorange', lw=2, label='Curva ROC (área = %0.2f)' % roc_auc)\n",
        "plt.plot([0, 1], [0, 1], color='navy', lw=2, linestyle='--')\n",
        "plt.xlim([0.0, 1.0])\n",
        "plt.ylim([0.0, 1.05])\n",
        "plt.xlabel('Taxa de Falsos Positivos')\n",
        "plt.ylabel('Taxa de Verdadeiros Positivos')\n",
        "plt.title('Curva ROC')\n",
        "plt.legend(loc='lower right')\n",
        "plt.show()"
      ]
    },
    {
      "cell_type": "markdown",
      "metadata": {
        "id": "rQ8tUsnbAFe3"
      },
      "source": [
        "# Aula 4 - Avaliação dos resultados"
      ]
    },
    {
      "cell_type": "markdown",
      "metadata": {
        "id": "E55fy_dgAI0M"
      },
      "source": [
        "## Vídeo 4.1 - Seleção com RFE"
      ]
    },
    {
      "cell_type": "code",
      "execution_count": null,
      "metadata": {
        "colab": {
          "base_uri": "https://localhost:8080/"
        },
        "id": "tr5oy13sAMx8",
        "outputId": "a713a733-a1ac-499e-9bbe-2ac9d971f161"
      },
      "outputs": [],
      "source": [
        "grid_search.best_params_"
      ]
    },
    {
      "cell_type": "code",
      "execution_count": null,
      "metadata": {
        "id": "Hy89UgKhDEPS"
      },
      "outputs": [],
      "source": [
        "parametros = {\n",
        "    'n_estimators': 300,\n",
        "    'max_depth': None,\n",
        "    'min_samples_leaf': 1,\n",
        "    'min_samples_split': 2,\n",
        "    'random_state': 2\n",
        "}"
      ]
    },
    {
      "cell_type": "code",
      "execution_count": null,
      "metadata": {
        "id": "2AtwWxOyEpuO"
      },
      "outputs": [],
      "source": [
        "modelo = RandomForestClassifier(**parametros)"
      ]
    },
    {
      "cell_type": "code",
      "execution_count": null,
      "metadata": {
        "id": "74cVtN8wyzF5"
      },
      "outputs": [],
      "source": [
        "from sklearn.feature_selection import RFE"
      ]
    },
    {
      "cell_type": "code",
      "execution_count": null,
      "metadata": {
        "colab": {
          "base_uri": "https://localhost:8080/",
          "height": 118
        },
        "id": "JC2a7OxMAT5f",
        "outputId": "e1cf219f-be71-493a-e344-70e0123ef42f"
      },
      "outputs": [],
      "source": [
        "selecionador = RFE(modelo,n_features_to_select=10, step=1)\n",
        "selecionador.fit(X_treino, y_treino)"
      ]
    },
    {
      "cell_type": "code",
      "execution_count": null,
      "metadata": {
        "id": "EAf-bC-RDI9R"
      },
      "outputs": [],
      "source": [
        "X_treino_selecionado = selecionador.transform(X_treino)\n",
        "X_teste_selecionado = selecionador.transform(X_teste)"
      ]
    },
    {
      "cell_type": "code",
      "execution_count": null,
      "metadata": {
        "colab": {
          "base_uri": "https://localhost:8080/"
        },
        "id": "-Bv-r0BFEJJQ",
        "outputId": "b6673e85-860e-4260-f69f-f54b305619a1"
      },
      "outputs": [],
      "source": [
        "modelo.fit(X_treino_selecionado,y_treino)\n",
        "print(f'Score: {modelo.score(X_teste_selecionado,y_teste)}')"
      ]
    },
    {
      "cell_type": "code",
      "execution_count": null,
      "metadata": {
        "colab": {
          "base_uri": "https://localhost:8080/",
          "height": 75
        },
        "id": "KMsxopd6EFEC",
        "outputId": "50fb7b65-d2a4-4683-eee6-d1d66ca1a69d"
      },
      "outputs": [],
      "source": [
        "modelo.fit(X_treino_selecionado,y_treino)"
      ]
    },
    {
      "cell_type": "code",
      "execution_count": null,
      "metadata": {
        "id": "FGB_2QpeEA9u"
      },
      "outputs": [],
      "source": [
        "y_pred = modelo.predict(X_teste_selecionado)"
      ]
    },
    {
      "cell_type": "code",
      "execution_count": null,
      "metadata": {
        "colab": {
          "base_uri": "https://localhost:8080/",
          "height": 472
        },
        "id": "kabC8ixlENqN",
        "outputId": "6744f431-9ab9-4831-d85f-1791263016ad"
      },
      "outputs": [],
      "source": [
        "matriz_confusao = confusion_matrix(y_teste,y_pred)\n",
        "\n",
        "sns.heatmap(matriz_confusao, annot=True, cmap='coolwarm',fmt='d')\n",
        "plt.xlabel('Classe Prevista');\n",
        "plt.ylabel('Classe Real');\n",
        "plt.title('Matriz de Confusão');"
      ]
    },
    {
      "cell_type": "markdown",
      "metadata": {
        "id": "_iMz-gQ3sJJk"
      },
      "source": [
        "## Vídeo 4.2 - Seleção com RFECV"
      ]
    },
    {
      "cell_type": "code",
      "execution_count": null,
      "metadata": {
        "id": "bHu4CQqB5zy1"
      },
      "outputs": [],
      "source": [
        "modelo = RandomForestClassifier(**parametros)"
      ]
    },
    {
      "cell_type": "code",
      "execution_count": null,
      "metadata": {
        "id": "3L1H--3FEO2k"
      },
      "outputs": [],
      "source": [
        "from sklearn.feature_selection import RFECV\n",
        "from sklearn.model_selection import StratifiedKFold"
      ]
    },
    {
      "cell_type": "markdown",
      "metadata": {
        "id": "I36jH04SBmTQ"
      },
      "source": [
        "Aqui vamos definir o StratifiedKFold para ser o método de divisão dos dados."
      ]
    },
    {
      "cell_type": "code",
      "execution_count": null,
      "metadata": {
        "id": "PS2ITjB75vcw"
      },
      "outputs": [],
      "source": [
        "cv = StratifiedKFold(5,shuffle=True,random_state=500)\n",
        "rfecv = RFECV(\n",
        "    estimator=modelo,\n",
        "    step=1,\n",
        "    cv=cv,\n",
        "    scoring='roc_auc', #roc_auc\n",
        "    min_features_to_select=1,\n",
        "    importance_getter='auto'\n",
        ")"
      ]
    },
    {
      "cell_type": "code",
      "execution_count": null,
      "metadata": {
        "colab": {
          "background_save": true
        },
        "id": "kUoOrM_B7hIc",
        "outputId": "706e74d8-9cbb-49c9-b134-1e5e082c4e05"
      },
      "outputs": [],
      "source": [
        "rfecv.fit(X_treino,y_treino)\n",
        "print(f'O número ideal de features é: {rfecv.n_features_}')\n",
        "print(f'Ranking das features: {rfecv.ranking_}')\n",
        "print(f'Score: {rfecv.cv_results_}')"
      ]
    },
    {
      "cell_type": "code",
      "execution_count": null,
      "metadata": {
        "colab": {
          "background_save": true
        },
        "id": "3yJvpgoR8V7T"
      },
      "outputs": [],
      "source": [
        "y_pred = rfecv.predict(X_teste)"
      ]
    },
    {
      "cell_type": "code",
      "execution_count": null,
      "metadata": {
        "colab": {
          "background_save": true
        },
        "id": "Lng8KBfh8gvV"
      },
      "outputs": [],
      "source": [
        "matriz_confusao = confusion_matrix(y_teste,y_pred)"
      ]
    },
    {
      "cell_type": "code",
      "execution_count": null,
      "metadata": {
        "colab": {
          "background_save": true
        },
        "id": "B09YgjIl8lWO",
        "outputId": "15bf8ebd-f054-42d6-999a-06889c77dae7"
      },
      "outputs": [],
      "source": [
        "sns.heatmap(matriz_confusao, annot=True, cmap='coolwarm',fmt='d')"
      ]
    },
    {
      "cell_type": "markdown",
      "metadata": {
        "id": "48A4NolQ_DlY"
      },
      "source": [
        "## Vídeo 4.3 - Visualização dos resultados"
      ]
    },
    {
      "cell_type": "code",
      "execution_count": null,
      "metadata": {
        "colab": {
          "background_save": true
        },
        "id": "qVslOfeXAQOg"
      },
      "outputs": [],
      "source": [
        "resultado = rfecv.cv_results_"
      ]
    },
    {
      "cell_type": "code",
      "execution_count": null,
      "metadata": {
        "colab": {
          "background_save": true
        },
        "id": "omBYHFjV_EA3",
        "outputId": "03d0741d-f5ed-423e-9d52-279d18527878"
      },
      "outputs": [],
      "source": [
        "resultado['mean_test_score']"
      ]
    },
    {
      "cell_type": "code",
      "execution_count": null,
      "metadata": {
        "colab": {
          "background_save": true
        },
        "id": "srfpDG-w_IKt"
      },
      "outputs": [],
      "source": [
        "results_df = pd.DataFrame({'Valores': resultado['mean_test_score']})"
      ]
    },
    {
      "cell_type": "code",
      "execution_count": null,
      "metadata": {
        "colab": {
          "background_save": true
        },
        "id": "em34zs6m_KRE",
        "outputId": "45d5a191-6a38-49d7-e201-f4d77d105178"
      },
      "outputs": [],
      "source": [
        "plt.figure(figsize=(10,6))\n",
        "ax = sns.barplot(x=results_df.index +1 , y='Valores',data=results_df)\n",
        "ax.set_xticklabels(ax.get_xticklabels(), rotation=45);"
      ]
    },
    {
      "cell_type": "code",
      "execution_count": null,
      "metadata": {
        "colab": {
          "background_save": true
        },
        "id": "KKx2v1yC_Lwk",
        "outputId": "32fe49ce-9867-4364-ab72-b8d453cab01e"
      },
      "outputs": [],
      "source": [
        "resultado['mean_test_score'][27]"
      ]
    }
  ],
  "metadata": {
    "colab": {
      "provenance": []
    },
    "kernelspec": {
      "display_name": "Python 3",
      "name": "python3"
    },
    "language_info": {
      "codemirror_mode": {
        "name": "ipython",
        "version": 3
      },
      "file_extension": ".py",
      "mimetype": "text/x-python",
      "name": "python",
      "nbconvert_exporter": "python",
      "pygments_lexer": "ipython3",
      "version": "3.12.4"
    }
  },
  "nbformat": 4,
  "nbformat_minor": 0
}
